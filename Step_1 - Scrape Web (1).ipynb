{
 "cells": [
  {
   "cell_type": "code",
   "execution_count": 1,
   "id": "3ce7bb1d",
   "metadata": {},
   "outputs": [],
   "source": [
    "# import importants\n",
    "import pandas as pd\n",
    "import pickle\n",
    "import re\n",
    "import time\n",
    "import random\n",
    "import requests\n",
    "import bs4\n",
    "from bs4 import BeautifulSoup as bs\n",
    "import json"
   ]
  },
  {
   "cell_type": "code",
   "execution_count": 2,
   "id": "0e9752ca",
   "metadata": {},
   "outputs": [],
   "source": [
    "# initalize lists\n",
    "\n",
    "links = []\n",
    "dict_list = []"
   ]
  },
  {
   "cell_type": "code",
   "execution_count": 3,
   "id": "51bee5b3",
   "metadata": {},
   "outputs": [],
   "source": [
    "# 12 pages\n",
    "# 96 computers to a page\n",
    "\n",
    "all_pages = ['https://www.newegg.com/p/pl?N=100019096%204814%20600014655%20600014654%20600014652%20600014656&Order=3&PageSize=96',\n",
    "            'https://www.newegg.com/p/pl?N=100019096%204814%20600014655%20600014654%20600014652%20600014656&Order=3&PageSize=96&page=2',\n",
    "            'https://www.newegg.com/p/pl?N=100019096%204814%20600014655%20600014654%20600014652%20600014656&Order=3&PageSize=96&page=3',\n",
    "            'https://www.newegg.com/p/pl?N=100019096%204814%20600014655%20600014654%20600014652%20600014656&Order=3&PageSize=96&page=4',\n",
    "            'https://www.newegg.com/p/pl?N=100019096%204814%20600014655%20600014654%20600014652%20600014656&Order=3&PageSize=96&page=5',\n",
    "            'https://www.newegg.com/p/pl?N=100019096%204814%20600014655%20600014654%20600014652%20600014656&Order=3&PageSize=96&page=6',\n",
    "            'https://www.newegg.com/p/pl?N=100019096%204814%20600014655%20600014654%20600014652%20600014656&Order=3&PageSize=96&page=7',\n",
    "            'https://www.newegg.com/p/pl?N=100019096%204814%20600014655%20600014654%20600014652%20600014656&Order=3&PageSize=96&page=8',\n",
    "            'https://www.newegg.com/p/pl?N=100019096%204814%20600014655%20600014654%20600014652%20600014656&Order=3&PageSize=96&page=9',\n",
    "            'https://www.newegg.com/p/pl?N=100019096%204814%20600014655%20600014654%20600014652%20600014656&Order=3&PageSize=96&page=10',\n",
    "            'https://www.newegg.com/p/pl?N=100019096%204814%20600014655%20600014654%20600014652%20600014656&Order=3&PageSize=96&page=11',\n",
    "            'https://www.newegg.com/p/pl?N=100019096%204814%20600014655%20600014654%20600014652%20600014656&Order=3&PageSize=96&page=12']"
   ]
  },
  {
   "cell_type": "code",
   "execution_count": 5,
   "id": "b2941a1c",
   "metadata": {},
   "outputs": [],
   "source": [
    "# function to scrape from  individual link\n",
    "\n",
    "def scrape_pipeline(url):\n",
    "    time.sleep(2 + 2*random.random())                    # sleep timer\n",
    "    response = requests.get(url)                         # boil soup\n",
    "    page = response.text\n",
    "    soup = bs(page)\n",
    "    rawColumns = soup.find_all('th')                     # extract content from soup\n",
    "    rawElements = soup.find_all('td')\n",
    "    key_cols = []                                        # initalize key and val lists\n",
    "    val_els = [] \n",
    "    key_cols = [i.text for i in rawColumns]              # fill lists\n",
    "    val_els = [i.text for i in rawElements]   \n",
    "    res = {} \n",
    "    for key in key_cols:                                 # form dictionary from key and val lists\n",
    "        for value in val_els:\n",
    "            res[key] = value\n",
    "            val_els.remove(value)\n",
    "            break         \n",
    "    price = soup.find_all(text = re.compile('\"price\":')) # get price & append to res dictionary\n",
    "    try:\n",
    "        new_dict = json.loads(str(price[0]))\n",
    "        res['Price'] = new_dict['offers']['price']\n",
    "    except:\n",
    "        pass\n",
    "    dict_list.append(res)                                # append current dict to global variable dict_list  "
   ]
  },
  {
   "cell_type": "code",
   "execution_count": 6,
   "id": "740cfbe5",
   "metadata": {},
   "outputs": [
    {
     "data": {
      "text/plain": [
       "32"
      ]
     },
     "execution_count": 6,
     "metadata": {},
     "output_type": "execute_result"
    }
   ],
   "source": [
    "# get inner links to each computer\n",
    "# add to a list\n",
    "\n",
    "for page in all_pages:\n",
    "    time.sleep(2 + 2*random.random())\n",
    "    response = requests.get(page)\n",
    "    page_html = response.text\n",
    "    soup = bs(page_html)\n",
    "    links_one = [link['href'] for link in soup.find_all('a', class_=\"item-title\")]\n",
    "    links.append(links_one)\n",
    "    \n",
    "len(links)"
   ]
  },
  {
   "cell_type": "code",
   "execution_count": 7,
   "id": "be891358",
   "metadata": {},
   "outputs": [],
   "source": [
    "with open('pickled_links_list', 'wb') as f:\n",
    "    pickle.dump(links,f)"
   ]
  },
  {
   "cell_type": "code",
   "execution_count": 8,
   "id": "4370ccc4",
   "metadata": {},
   "outputs": [
    {
     "data": {
      "text/plain": [
       "32"
      ]
     },
     "execution_count": 8,
     "metadata": {},
     "output_type": "execute_result"
    }
   ],
   "source": [
    "with open('pickled_links_list', 'rb') as f:\n",
    "    links_list = pickle.load(f)\n",
    "\n",
    "len(links_list)"
   ]
  },
  {
   "cell_type": "code",
   "execution_count": 9,
   "id": "514148a7",
   "metadata": {},
   "outputs": [
    {
     "data": {
      "text/plain": [
       "0"
      ]
     },
     "execution_count": 9,
     "metadata": {},
     "output_type": "execute_result"
    }
   ],
   "source": [
    "flat_list = [item for sublist in links_list for item in sublist]\n",
    "\n",
    "len(flat_list) # expecting"
   ]
  },
  {
   "cell_type": "code",
   "execution_count": 10,
   "id": "2a8a44a9",
   "metadata": {},
   "outputs": [],
   "source": [
    "for link in flat_list:\n",
    "    scrape_pipeline(link)"
   ]
  },
  {
   "cell_type": "code",
   "execution_count": 11,
   "id": "acca636d",
   "metadata": {},
   "outputs": [
    {
     "data": {
      "text/plain": [
       "0"
      ]
     },
     "execution_count": 11,
     "metadata": {},
     "output_type": "execute_result"
    }
   ],
   "source": [
    "len(dict_list)"
   ]
  },
  {
   "cell_type": "code",
   "execution_count": 12,
   "id": "70aa1677",
   "metadata": {},
   "outputs": [],
   "source": [
    "df = pd.DataFrame(dict_list)"
   ]
  },
  {
   "cell_type": "code",
   "execution_count": 13,
   "id": "c468eaa1",
   "metadata": {},
   "outputs": [],
   "source": [
    "with open('pickled_df', 'wb') as f:\n",
    "    pickle.dump(df,f)"
   ]
  },
  {
   "cell_type": "code",
   "execution_count": 14,
   "id": "da7d5b1d",
   "metadata": {},
   "outputs": [],
   "source": [
    "# End of Webscraping\n",
    "# Start Step_2 - Data Cleaning"
   ]
  }
 ],
 "metadata": {
  "kernelspec": {
   "display_name": "Python 3 (ipykernel)",
   "language": "python",
   "name": "python3"
  },
  "language_info": {
   "codemirror_mode": {
    "name": "ipython",
    "version": 3
   },
   "file_extension": ".py",
   "mimetype": "text/x-python",
   "name": "python",
   "nbconvert_exporter": "python",
   "pygments_lexer": "ipython3",
   "version": "3.9.7"
  }
 },
 "nbformat": 4,
 "nbformat_minor": 5
}
